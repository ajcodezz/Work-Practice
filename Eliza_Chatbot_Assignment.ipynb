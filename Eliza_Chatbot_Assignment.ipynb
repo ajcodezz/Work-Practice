{
  "nbformat": 4,
  "nbformat_minor": 0,
  "metadata": {
    "colab": {
      "provenance": [],
      "include_colab_link": true
    },
    "kernelspec": {
      "name": "python3",
      "display_name": "Python 3"
    },
    "language_info": {
      "name": "python"
    }
  },
  "cells": [
    {
      "cell_type": "markdown",
      "metadata": {
        "id": "view-in-github",
        "colab_type": "text"
      },
      "source": [
        "<a href=\"https://colab.research.google.com/github/ajcodezz/Work-Practice/blob/main/Eliza_Chatbot_Assignment.ipynb\" target=\"_parent\"><img src=\"https://colab.research.google.com/assets/colab-badge.svg\" alt=\"Open In Colab\"/></a>"
      ]
    },
    {
      "cell_type": "markdown",
      "source": [
        "# Introduction\n",
        "\n",
        "Course: AIT 516 - Natural Language Processing\n",
        "\n",
        "Date: 6/4/2025\n",
        "\n",
        "Group 6 Members: Michelle James, Oeeshik Kundu, Alyssa Paige, Varun Gunda\n",
        "\n",
        "\n",
        "## Problem Description:\n",
        "\n",
        "This code simulates a chatbot modeled after Eliza, a classic psychotherapist chatbot. It interacts with users by processing their input, reflecting their emotional cues and intentions, and generating meaningful, empathetic responses. The chatbot aims to engage users in reflective dialogue, mimicking a therapeutic conversation to help users explore their thoughts and feelings.\n",
        "\n",
        "## Examples of Usage:\n",
        "\n",
        "1. User starts the program and is greeted by Eliza, who asks for the user’s name.\n",
        "2. User inputs their name (e.g., \"Michelle\").\n",
        "3. Eliza prompts the user for input (e.g., \"Hi, Michelle! How can I help you today?\").\n",
        "- User enters sentences like:\n",
        "    > \"I'm feeling sad today.\"\n",
        "    Eliza might respond:\n",
        "    > \"Why do you feel sad?\"\n",
        "4. If the user types \"bye\", \"quit\", or \"exit\", Eliza will respond with a goodbye message and end the conversation.\n",
        "5. The chatbot supports expansions of contractions (\"I'm\" -> \"I am\") and reflects pronouns to maintain natural dialogue.\n",
        "6. Bonus: The bot recognizes emotions, keywords, and duration phrases, providing tailored responses.\n",
        "\n",
        "## Usage Instructions:\n",
        "\n",
        "1. Run the program in a Python 3 environment with NLTK installed.\n",
        "2. At the prompt, enter your name when asked.\n",
        "3. Type your messages and press Enter to chat with Eliza.\n",
        "4. To end the conversation, type \"bye\", \"quit\", \"exit\", or \"stop\".\n",
        "5. If you enter empty input, Eliza will prompt you to try again.\n",
        "\n",
        "## Algorithm Overview:\n",
        "\n",
        "1. **Initialization:**\n",
        "   - Download required NLTK data packages (wordnet, punkt, stopwords, etc.).\n",
        "   - Define mappings for contractions, pronouns, emotion keywords, and transformation patterns.\n",
        "\n",
        "2. **Preprocessing:**\n",
        "   - Convert user input to lowercase.\n",
        "   - Expand contractions to their full forms for clarity.\n",
        "   - Remove trailing punctuation for uniform processing.\n",
        "\n",
        "3. **User Interaction Loop:**\n",
        "   - Greet the user and prompt for their name.\n",
        "   - Enter the main chat loop:\n",
        "     a. Receive user input.\n",
        "     b. If input is empty, prompt user to try again.\n",
        "     c. Check if user wants to quit (matches quit keywords).\n",
        "     d. If quitting, respond with a farewell message and exit.\n",
        "     e. Otherwise, preprocess input.\n",
        "     f. Attempt to match input against predefined transformation patterns and keyword responses.\n",
        "     g. Check for emotion-related input to produce empathetic replies.\n",
        "     h. Detect duration phrases (example “2 years”) and reflect back for depth.\n",
        "     i. Reflect pronouns in the fallback response to personalize replies.\n",
        "     j. If no pattern matches, respond with a generic backup prompt to encourage more input.\n",
        "\n",
        "4. **Response Generation:**\n",
        "   - Select an appropriate response based on the first successful pattern or keyword match.\n",
        "   - Format the response dynamically with captured user input where applicable.\n",
        "   - Provide fallback responses when no other matches are found.\n",
        "\n",
        "5. **Repeat:**\n",
        "   - Continue the loop until the user issues a quit command or interrupts the program.\n"
      ],
      "metadata": {
        "id": "ZxkQW1xwMnmb"
      }
    },
    {
      "cell_type": "markdown",
      "source": [
        "# Resources Used\n",
        "\n",
        "1. Liao, Duoduo. Liao - M1.2 Lecture Video. AIT526 Course Materials at https://us-lti.bbcollab.com/collab/ui/session/playback. Spring 2025.\n",
        "\n",
        "2. Gadiraju, Sai Surya. Demo Video 1. AIT526 Course Materials at https://onedrive.live.com/?qt=allmyphotos&photosData=%2Fshare%2FF407F38C428C3DEB%21s83889c8000ed49d69b0d8730c12835d3%3Fithint%3Dvideo%26e%3DbbDBwn%26migratedtospo%3Dtrue&sw=bypassConfig&cid=F407F38C428C3DEB&id=F407F38C428C3DEB%21s83889c8000ed49d69b0d8730c12835d3&redeem=aHR0cHM6Ly8xZHJ2Lm1zL3YvYy9mNDA3ZjM4YzQyOGMzZGViL0VZQ2NpSVB0QU5aSm13MkhNTUVvTmRNQlFnVU14YkR5UmNPbE9XeXRtLU9rNkE%5FZT1iYkRCd24&v=photos. Spring 2025.\n",
        "\n",
        "3. Gadiraju, Sai Surya. Demo Video 2. AIT526 Course Materials at https://onedrive.live.com/?qt=allmyphotos&photosData=%2Fshare%2FF407F38C428C3DEB%21s83889c8000ed49d69b0d8730c12835d3%3Fithint%3Dvideo%26e%3DbbDBwn%26migratedtospo%3Dtrue&sw=bypassConfig&cid=F407F38C428C3DEB&id=F407F38C428C3DEB%21s83889c8000ed49d69b0d8730c12835d3&redeem=aHR0cHM6Ly8xZHJ2Lm1zL3YvYy9mNDA3ZjM4YzQyOGMzZGViL0VZQ2NpSVB0QU5aSm13MkhNTUVvTmRNQlFnVU14YkR5UmNPbE9XeXRtLU9rNkE%5FZT1iYkRCd24&v=photos. Spring 2025.\n",
        "   \n",
        "4. Computer Science (compsci112358). Build Your Own Virtual Therapist: A Step-by-Step Guide to Creating Your Own Eliza Chatbot In Python. https://www.youtube.com/watch?v=9mD_MM5MQSY&t=52s. Updated January 30, 2023.\n",
        "\n",
        "\n",
        "5. Bird, S., Klein, E., & Loper, E. (n.d.). nltk.chat.eliza – Eliza chatbot implementation. Natural Language Toolkit. Retrieved June 4, 2025, from https://www.nltk.org/_modules/nltk/chat/eliza.html\n",
        "\n",
        "6. Pythonspot. (n.d.). Eliza chatbot in Python. Retrieved June 4, 2025, from https://pythonspot.com/eliza-chatbot/\n",
        "\n",
        "7. GeeksforGeeks. (2023, July 5). Python chatbot – Eliza. Retrieved June 4, 2025, from https://www.geeksforgeeks.org/python-chatbot-eliza/\n",
        "\n",
        "8. Python Software Foundation. (n.d.). re — Regular expression operations. Python 3.12. Retrieved June 4, 2025, from https://docs.python.org/3/library/re.html\n",
        "\n",
        "9. Stack Overflow. (2013, October 25). Expanding English language contractions in Python. StackExchange. Retrieved June 4, 2025, from https://stackoverflow.com/questions/19790188/expanding-english-language-contractions-in-python\n",
        "\n",
        "10. O'Hara, D. (2006). Pronoun reflection. ActiveState Code Recipes. Retrieved June 4, 2025, from https://code.activestate.com/recipes/496172-pronoun-reflection/\n",
        "\n",
        "11. Bird, S., Klein, E., & Loper, E. (n.d.). nltk.tokenize – Tokenizers. Natural Language Toolkit. Retrieved June 4, 2025, from https://www.nltk.org/api/nltk.tokenize.html\n",
        "\n",
        "12. Bird, S., Klein, E., & Loper, E. (n.d.). NLTK corpus how-to: Stopwords corpus. Natural Language Toolkit. Retrieved June 4, 2025, from https://www.nltk.org/howto/corpus.html#stopwords-corpus"
      ],
      "metadata": {
        "id": "sc7OT1W_dNH2"
      }
    },
    {
      "cell_type": "markdown",
      "source": [
        "# Import Libraries\n",
        "re - provides regular expression support\n",
        "\n",
        "random - generates random selections from lists or ranges\n",
        "\n",
        "time - provides functions to measure and delay execution\n",
        "\n",
        "nltk - library needed for NLP\n",
        "\n",
        "nltk.tokenize - creates tokens from words and phrases\n",
        "\n",
        "nltk.tag - used for POS tagging\n",
        "\n",
        "nltk.stem - lemmatizer used to create base words"
      ],
      "metadata": {
        "id": "1xFae4Ew5PS6"
      }
    },
    {
      "cell_type": "code",
      "execution_count": null,
      "metadata": {
        "id": "wm1BTiI2403d"
      },
      "outputs": [],
      "source": [
        "import re\n",
        "import random\n",
        "import nltk\n",
        "import time\n",
        "from threading import Timer\n",
        "from nltk.tokenize import word_tokenize\n",
        "from nltk.corpus import wordnet\n",
        "from nltk.tag import pos_tag\n",
        "from nltk.stem import WordNetLemmatizer"
      ]
    },
    {
      "cell_type": "markdown",
      "source": [
        "# Download NLTK Data\n"
      ],
      "metadata": {
        "id": "maQdBqyPe0vq"
      }
    },
    {
      "cell_type": "code",
      "source": [
        "nltk.download('wordnet', quiet=True)\n",
        "nltk.download('punkt', quiet=True)\n",
        "nltk.download(\"stopwords\")\n",
        "nltk.download('averaged_perceptron_tagger', quiet=True)\n"
      ],
      "metadata": {
        "colab": {
          "base_uri": "https://localhost:8080/"
        },
        "id": "kzEbstvre6bl",
        "outputId": "385256f3-be04-40c7-af2d-7cdb1edd9d93"
      },
      "execution_count": null,
      "outputs": [
        {
          "output_type": "stream",
          "name": "stderr",
          "text": [
            "[nltk_data] Downloading package stopwords to /root/nltk_data...\n",
            "[nltk_data]   Unzipping corpora/stopwords.zip.\n"
          ]
        },
        {
          "output_type": "execute_result",
          "data": {
            "text/plain": [
              "True"
            ]
          },
          "metadata": {},
          "execution_count": 11
        }
      ]
    },
    {
      "cell_type": "code",
      "source": [],
      "metadata": {
        "id": "vBBSut7a0sf5"
      },
      "execution_count": null,
      "outputs": []
    },
    {
      "cell_type": "markdown",
      "source": [
        "# Expand Contractions\n",
        "\n",
        "This function replaces common English contractions with their expended forms according to the contraction dictionary defined below.\n",
        "\n",
        "The expand_contractions function replaces contractions with their expanded word forms, which allows the chatbot to decipher the input of contractions.\n"
      ],
      "metadata": {
        "id": "j7e6KoNgW4qe"
      }
    },
    {
      "cell_type": "code",
      "source": [
        "contraction_map = {\n",
        "    r\"\\bI'm\\b\": \"I am\",\n",
        "    r\"\\bI’m\\b\": \"I am\",\n",
        "    r\"\\bcan't\\b\": \"cannot\",\n",
        "    r\"\\bwon't\\b\": \"will not\",\n",
        "    r\"\\bdon't\\b\": \"do not\",\n",
        "    r\"\\bit's\\b\": \"it is\",\n",
        "    r\"\\bthat's\\b\": \"that is\",\n",
        "    r\"\\bthere's\\b\": \"there is\",\n",
        "    r\"\\bwhat's\\b\": \"what is\",\n",
        "    r\"\\bI'd\\b\": \"I would\",\n",
        "    r\"\\bI've\\b\": \"I have\",\n",
        "    r\"\\bI'll\\b\": \"I will\",\n",
        "    r\"\\byou're\\b\": \"you are\",\n",
        "    r\"\\byou’ve\\b\": \"you have\",\n",
        "    r\"\\bdoesn't\\b\": \"does not\",\n",
        "    r\"\\bdidn't\\b\": \"did not\",\n",
        "    r\"\\bthey're\\b\": \"they are\",\n",
        "    r\"\\bwe're\\b\": \"we are\",\n",
        "}"
      ],
      "metadata": {
        "id": "klpeV4PrW2c1"
      },
      "execution_count": null,
      "outputs": []
    },
    {
      "cell_type": "code",
      "source": [
        "def expand_contractions(text: str) -> str:\n",
        "\n",
        "    for pattern, replacement in contraction_map.items():\n",
        "        text = re.sub(pattern, replacement, text, flags=re.IGNORECASE)\n",
        "    return text"
      ],
      "metadata": {
        "id": "1RZmFE0LWwSi"
      },
      "execution_count": null,
      "outputs": []
    },
    {
      "cell_type": "markdown",
      "source": [
        "# Preprocess Inputs\n",
        "\n",
        "This function preprocesses input from the user to prepare for the pattern matching. It expands contractions, eliminates leading/trailing whitespace, and removes capitalization."
      ],
      "metadata": {
        "id": "ZnWLnE1YXQdt"
      }
    },
    {
      "cell_type": "markdown",
      "source": [],
      "metadata": {
        "id": "6CS6im_rXUUh"
      }
    },
    {
      "cell_type": "code",
      "source": [
        "def preprocess_input(user_input):\n",
        "\n",
        "    user_input = user_input.lower()\n",
        "    user_input = re.sub(r'[^\\w\\s]+$', r'', user_input)\n",
        "    expanded = expand_contractions(user_input)\n",
        "    return expanded.strip()"
      ],
      "metadata": {
        "id": "Lg8_Bsv7XQsf"
      },
      "execution_count": null,
      "outputs": []
    },
    {
      "cell_type": "markdown",
      "source": [
        "# Sentence Transformations\n",
        "\n",
        "This dictionary is used to catch specific patterns from the start of sentences and transform them by capturing and repeating back portions of the sentence."
      ],
      "metadata": {
        "id": "kcoxcG6LXeAo"
      }
    },
    {
      "cell_type": "markdown",
      "source": [],
      "metadata": {
        "id": "9a-3agjDXQ6E"
      }
    },
    {
      "cell_type": "code",
      "source": [
        "transformation_patterns = {\n",
        "    r\"^I want (.*)\": [\n",
        "        \"Why do you want {}?\",\n",
        "        \"Suppose you got {}—what would you do next?\",\n",
        "    ],\n",
        "    r\"^I need (.*)\": [\n",
        "        \"Why do you need {}?\",\n",
        "        \"Would it really help you to get {}?\",\n",
        "    ],\n",
        "    # Catch “I feel X” or “I just feel X”\n",
        "    r\"^I(?: just)? feel (.*)\": [\n",
        "        \"Why do you feel {}?\",\n",
        "        \"Do you often feel {}?\",\n",
        "    ],\n",
        "    r\"^I am (.*)\": [\n",
        "        \"How long have you been {}?\",\n",
        "        \"Do you enjoy being {}?\",\n",
        "    ],\n",
        "    r\"^Why don\\'?t you (.*)\": [\n",
        "        \"Do you really think I don’t {}?\",\n",
        "        \"Perhaps eventually I will {}.\",\n",
        "    ],\n",
        "    r\"^Why can\\'?t I (.*)\": [\n",
        "        \"Do you think you should be able to {}?\",\n",
        "        \"If you could {}, what would you do?\",\n",
        "    ],\n",
        "    r\"^You are (.*)\": [\n",
        "        \"What makes you think I am {}?\",\n",
        "        \"Does it please you to think that I am {}?\",\n",
        "    ],\n",
        "    r\"^Because (.*)\": [\n",
        "        \"Is that the real reason?\",\n",
        "        \"What other reasons come to mind?\",\n",
        "    ],\n",
        "}"
      ],
      "metadata": {
        "id": "VAO7U_IUXRD8"
      },
      "execution_count": null,
      "outputs": []
    },
    {
      "cell_type": "markdown",
      "source": [
        "# Keyword Patterns\n",
        "\n",
        "The chatbot will look for these regular expressions in the user input and return one of the responses in the list.\n",
        "\n",
        "The capitalization is stripped from the user input before it gets to the pattern dictionary."
      ],
      "metadata": {
        "id": "8jgfkSFzXj6_"
      }
    },
    {
      "cell_type": "code",
      "source": [
        "keyword_patterns = {\n",
        "    r\"\\bhappy\\b\": [\n",
        "        \"What makes you feel happy?\",\n",
        "        \"How long have you been feeling happy?\"\n",
        "    ],\n",
        "    r\"\\bsad\\b\": [\n",
        "        \"I'm sorry to hear you're feeling sad. Why do you think that is?\",\n",
        "        \"Do you often feel sad?\"\n",
        "    ],\n",
        "    r\"\\bsick\\b\": [\n",
        "        \"I'm sorry you’re not feeling well. What’s been bothering you?\",\n",
        "        \"How long have you felt sick?\"\n",
        "    ],\n",
        "    r\"\\bhealthy\\b\": [\n",
        "        \"Great to hear you’re feeling healthy! What’s been going well?\",\n",
        "        \"What do you do to maintain your health?\"\n",
        "    ],\n",
        "    r\"\\blow\\b\": [\n",
        "        \"I'm sorry to hear you’re feeling low. What do you think is causing that?\",\n",
        "        \"How long have you been feeling low?\"\n",
        "    ],\n",
        "    r\"\\bfear\\b\": [\n",
        "        \"What are you afraid of?\",\n",
        "        \"How long have you been experiencing that fear?\"\n",
        "    ],\n",
        "    r\"\\bfamily\\b\": [\n",
        "        \"Tell me more about your family.\",\n",
        "        \"How do you feel about your family?\"\n",
        "    ],\n",
        "    r\"\\banger\\b\": [\n",
        "        \"What’s making you feel anger?\",\n",
        "        \"Do you think expressing anger helps?\"\n",
        "    ],\n",
        "    r\"\\bcrave\\b\": [\n",
        "        \"Why do you think you crave that?\",\n",
        "        \"What would it mean to you to have that craving satisfied?\"\n",
        "    ],\n",
        "}"
      ],
      "metadata": {
        "id": "GJzUiwCTXmo8"
      },
      "execution_count": null,
      "outputs": []
    },
    {
      "cell_type": "markdown",
      "source": [
        "# Emotion-Specific Responses\n",
        "\n",
        "This dictionary provides responses for the situation where the user replies with a single word describing a specific emotion."
      ],
      "metadata": {
        "id": "rP03wH4rXqK_"
      }
    },
    {
      "cell_type": "code",
      "source": [
        "emotion_responses = {\n",
        "    \"happy\": [\n",
        "        \"I’m glad to hear you’re happy. What’s been especially good?\",\n",
        "        \"Happiness is important. What’s making you smile today?\"\n",
        "    ],\n",
        "    \"sad\": [\n",
        "        \"I’m sorry you're feeling sad. Would you like to talk about what’s upsetting you?\",\n",
        "        \"Sadness can be heavy. When did you first start feeling this way?\"\n",
        "    ],\n",
        "    \"sick\": [\n",
        "        \"I hope you feel better soon. Can you tell me what’s making you feel sick?\",\n",
        "        \"Being sick is hard. Have you rested or sought help?\"\n",
        "    ],\n",
        "    \"healthy\": [\n",
        "        \"That’s wonderful! What habits help you stay healthy?\",\n",
        "        \"Being healthy feels good. What do you enjoy doing when you feel well?\"\n",
        "    ],\n",
        "    \"low\": [\n",
        "        \"I’m sorry you’re feeling low. Would talking about it help?\",\n",
        "        \"It’s okay to feel low sometimes. Do you know what might help lift your mood?\"\n",
        "    ],\n",
        "}"
      ],
      "metadata": {
        "id": "aJz6VqZ-Xsm9"
      },
      "execution_count": null,
      "outputs": []
    },
    {
      "cell_type": "markdown",
      "source": [
        "# Pronoun Reflection\n",
        "\n",
        "This function swaps pronouns in the text according to the mapping of the pronoun dictionary."
      ],
      "metadata": {
        "id": "I7DWEzXwYSK7"
      }
    },
    {
      "cell_type": "code",
      "source": [
        "pronoun_map = {\n",
        "    r\"\\bI\\b\": \"you\",\n",
        "    r\"\\bme\\b\": \"you\",\n",
        "    r\"\\bmy\\b\": \"your\",\n",
        "    r\"\\bam\\b\": \"are\",\n",
        "    r\"\\bmine\\b\": \"yours\",\n",
        "    r\"\\bmyself\\b\": \"yourself\",\n",
        "    r\"\\byou\\b\": \"I\",\n",
        "    r\"\\byour\\b\": \"my\",\n",
        "    r\"\\byours\\b\": \"mine\",\n",
        "    r\"\\byourself\\b\": \"myself\",\n",
        "}\n",
        "def reflect_pronouns(text: str) -> str:\n",
        "\n",
        "    def _replace(match):\n",
        "        word = match.group(0)\n",
        "        for pattern, replacement in pronoun_map.items():\n",
        "            if re.fullmatch(pattern, word, flags=re.IGNORECASE):\n",
        "                if word.isupper():\n",
        "                    return replacement.upper()\n",
        "                elif word[0].isupper():\n",
        "                    return replacement.capitalize()\n",
        "                else:\n",
        "                    return replacement\n",
        "        return word\n",
        "\n",
        "    combined_pattern = re.compile(\"|\".join(pronoun_map.keys()), flags=re.IGNORECASE)\n",
        "    return combined_pattern.sub(_replace, text)\n"
      ],
      "metadata": {
        "id": "xXT3kuEpYVBu"
      },
      "execution_count": null,
      "outputs": []
    },
    {
      "cell_type": "markdown",
      "source": [
        "# Backup Responses\n",
        "\n",
        "The program responds with one of responses from this list if it does not match any other expressions."
      ],
      "metadata": {
        "id": "aGwy9DWf5kaa"
      }
    },
    {
      "cell_type": "code",
      "source": [
        "backup_responses = [\n",
        "    'Tell me more about that.',\n",
        "    'You are full of surprises.',\n",
        "    'I\\'m not sure how I feel about that.',\n",
        "    'I would like to hear more about how you feel.',\n",
        "    \"I’m not sure I completely understand. Could you tell me more?\",\n",
        "    \"That’s interesting. Could you elaborate?\",\n",
        "    \"Why do you say that?\",\n",
        "    \"Hmm, I’m not certain I understand. Could you rephrase?\"\n",
        "]"
      ],
      "metadata": {
        "id": "4ZYVnHGA5nri"
      },
      "execution_count": null,
      "outputs": []
    },
    {
      "cell_type": "markdown",
      "source": [
        "# Quit the Chat\n",
        "\n",
        "This code determines whether the user wants to stop talking by looking for specific keywords and making sure those keywords are the only thing in the response other than whitespace."
      ],
      "metadata": {
        "id": "Xuf4_TfN7dJO"
      }
    },
    {
      "cell_type": "code",
      "source": [
        "quit_responses = ['It was nice talking to you. Goodbye.',\n",
        "                'Bye. Have a nice day.',\n",
        "                'I enjoyed talking to you. Take care.']\n",
        "quit_keywords = [\"bye\", \"quit\", \"exit\", \"stop\"]\n",
        "quit_pattern = re.compile(rf\"^\\s*({'|'.join(quit_keywords)})\\s*$\", re.IGNORECASE)\n",
        "\n",
        "\n",
        "def time_to_quit(user_input: str) -> bool:\n",
        "    \"\"\"\n",
        "    Return True if `user_input` (after stripping) is exactly one quit keyword.\n",
        "    \"\"\"\n",
        "    return bool(quit_pattern.match(user_input))"
      ],
      "metadata": {
        "id": "1yn-bL3w7qpk"
      },
      "execution_count": null,
      "outputs": []
    },
    {
      "cell_type": "markdown",
      "source": [
        "# Build a Response\n",
        "\n",
        "This function takes the preprocessed user input and attempts to craft a response in this order.\n",
        "\n",
        "      1. Handle a single word response of \"yes\" or \"no\"\n",
        "      2. Sentence transformation patterns (including \"I just feel X\")\n",
        "      3. Word-spotting keywords and mid-sentence patterns.\n",
        "      4. Emotion-specific reply if user replies with a single tracked feeling\n",
        "      5. Duration check (e.g., \"2 years\", \"6 months\")\n",
        "      6. Pronoun reflection (fallback)\n",
        "\n",
        "and checks for matches in our pattern matching dictionary. If it finds a match, it selects a response at random from the list of provided responses. It uses the groups returned by the re.search function to perform substitutions of captured strings during the pattern match into designated stops in the responses."
      ],
      "metadata": {
        "id": "0vna6ACqEGSQ"
      }
    },
    {
      "cell_type": "code",
      "source": [
        "def build_response(user_input):\n",
        "    response = \"\"\n",
        "\n",
        "    # Handle standalone \"yes\" or \"no\"\n",
        "    lower_input = user_input.lower()\n",
        "    if lower_input == \"yes\":\n",
        "        return \"You seem sure. Could you tell me more about that?\"\n",
        "    if lower_input == \"no\":\n",
        "        return \"Why not? Please elaborate.\"\n",
        "\n",
        "    # Handle transformations based on start of sentence matches.\n",
        "    for pattern, responses in transformation_patterns.items():\n",
        "        match = re.match(pattern, user_input, re.IGNORECASE)\n",
        "        if match:\n",
        "            captured = match.group(1).strip()\n",
        "            template = random.choice(responses)\n",
        "            return template.format(captured)\n",
        "\n",
        "    # Handle keyword and mid-sentence pattern matches.\n",
        "    for expression, responses in keyword_patterns.items():\n",
        "        m = re.search(expression, user_input, re.IGNORECASE)\n",
        "        if m:\n",
        "            response = random.choice(responses)\n",
        "            if m.groups():\n",
        "                response = response.format(*m.groups())\n",
        "\n",
        "    # Handle emotion-specific responses.\n",
        "    if lower_input in emotion_responses:\n",
        "        return random.choice(emotion_responses[lower_input])\n",
        "\n",
        "    # Reflect duration phrases: \"2 years\", \"6 months\", \"10 days\", etc.\n",
        "    duration_match = re.match(r\"^\\s*(\\d+\\s*(?:years?|months?|days?))\\b\", user_input, re.IGNORECASE)\n",
        "    if duration_match:\n",
        "        duration = duration_match.group(1).strip()\n",
        "        return (\n",
        "            f\"{duration} is quite a long time. \"\n",
        "            f\"What do you think has caused you to feel this way for {duration}?\"\n",
        "        )\n",
        "\n",
        "    # 6. Reflect pronouns (fallback)\n",
        "    reflected = reflect_pronouns(user_input)\n",
        "    return f\"Why do you say that {reflected}?\"\n",
        "\n",
        "    return response"
      ],
      "metadata": {
        "id": "S4DfChdpEJVV"
      },
      "execution_count": null,
      "outputs": []
    },
    {
      "cell_type": "markdown",
      "source": [
        "# Run Chatbot\n",
        "\n",
        "This code greets the user, asks for their name, and then runs a conversation loop until the user types a keyword to end the conversation.\n"
      ],
      "metadata": {
        "id": "fzjPYACa53jK"
      }
    },
    {
      "cell_type": "markdown",
      "source": [],
      "metadata": {
        "id": "Qw2PYb4nlMYG"
      }
    },
    {
      "cell_type": "code",
      "source": [
        "def run_chatbot():\n",
        "\n",
        "    # greet the user\n",
        "    print(f\"[Eliza] Hello, I'm Eliza. I'm a psychotherapist.\")\n",
        "\n",
        "    user_name = \"\"\n",
        "    while not user_name.strip():\n",
        "        user_name = input(\"[Eliza] What should I call you?\\n[User] \").strip()\n",
        "        if not user_name:\n",
        "            user_name = input(\"[Eliza] I didn't catch your name. Could you please tell me your name?\\n[User] \")\n",
        "\n",
        "    # Remove any trailing punctuation\n",
        "    user_name = re.sub(r'[^\\w\\s]+$', r'', user_name)\n",
        "    user_input = input(f\"[Eliza] Hi, {user_name}! How can I help you today?\\n[{user_name}] \")\n",
        "\n",
        "    while True:\n",
        "        user_input = user_input.strip()\n",
        "\n",
        "        if not user_input:\n",
        "            my_response = \"[Eliza] It seems you didn't say anything. Could you try again?\"\n",
        "        else:\n",
        "            if time_to_quit(user_input.lower()):\n",
        "                my_response = random.choice(quit_responses)\n",
        "                print(f\"[Eliza] {my_response}\")\n",
        "                break\n",
        "\n",
        "            # This is where I'm getting a response\n",
        "            cleaned_input = preprocess_input(user_input)\n",
        "\n",
        "            matched_response = build_response(cleaned_input)\n",
        "\n",
        "            if matched_response:\n",
        "                my_response = matched_response\n",
        "            else:\n",
        "                my_response = random.choice(backup_responses)\n",
        "\n",
        "\n",
        "        user_input = input(f\"[Eliza] {my_response}\\n[{user_name}] \")"
      ],
      "metadata": {
        "id": "YhFfGFT852Zs"
      },
      "execution_count": null,
      "outputs": []
    },
    {
      "cell_type": "code",
      "source": [
        "run_chatbot()"
      ],
      "metadata": {
        "id": "1diRH7nK6cVO",
        "colab": {
          "base_uri": "https://localhost:8080/"
        },
        "outputId": "b2ab16f0-58f0-4b37-aabc-2481eff89f2a"
      },
      "execution_count": null,
      "outputs": [
        {
          "output_type": "stream",
          "name": "stdout",
          "text": [
            "[Eliza] Hello, I'm Eliza. I'm a psychotherapist.\n",
            "[Eliza] What should I call you?\n",
            "[User] Alyssa\n",
            "[Eliza] Hi, Alyssa! How can I help you today?\n",
            "[Alyssa] \n",
            "[Eliza] [Eliza] It seems you didn't say anything. Could you try again?\n",
            "[Alyssa] I'm sad\n",
            "[Eliza] Do you enjoy being sad?\n",
            "[Alyssa] No\n",
            "[Eliza] Why not? Please elaborate.\n",
            "[Alyssa] I need friends\n",
            "[Eliza] Would it really help you to get friends?\n",
            "[Alyssa] Yes\n",
            "[Eliza] You seem sure. Could you tell me more about that?\n",
            "[Alyssa] I need someone to share life with\n",
            "[Eliza] Why do you need someone to share life with?\n",
            "[Alyssa] I crave friendship\n",
            "[Eliza] Why do you say that you crave friendship?\n",
            "[Alyssa] I fear being alone\n",
            "[Eliza] Why do you say that you fear being alone?\n",
            "[Alyssa] I want a healthy life\n",
            "[Eliza] Why do you want a healthy life?\n",
            "[Alyssa] For 6 years I have been alone\n",
            "[Eliza] Why do you say that for 6 years you have been alone?\n",
            "[Alyssa] I have to stop our conversation\n",
            "[Eliza] Why do you say that you have to stop our conversation?\n",
            "[Alyssa] Bye\n",
            "[Eliza] It was nice talking to you. Goodbye.\n"
          ]
        }
      ]
    },
    {
      "cell_type": "code",
      "source": [],
      "metadata": {
        "id": "nHMQhjBJY_mM"
      },
      "execution_count": null,
      "outputs": []
    }
  ]
}